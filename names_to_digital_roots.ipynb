{
  "nbformat": 4,
  "nbformat_minor": 0,
  "metadata": {
    "colab": {
      "name": "names_to_digital_roots.ipynb",
      "provenance": [],
      "collapsed_sections": [],
      "authorship_tag": "ABX9TyNSSiE2ldQ8vZ0W0n/6M42/",
      "include_colab_link": true
    },
    "kernelspec": {
      "name": "python3",
      "display_name": "Python 3"
    },
    "language_info": {
      "name": "python"
    }
  },
  "cells": [
    {
      "cell_type": "markdown",
      "metadata": {
        "id": "view-in-github",
        "colab_type": "text"
      },
      "source": [
        "<a href=\"https://colab.research.google.com/github/nolanacary-elf/nolanacary-elf/blob/main/names_to_digital_roots.ipynb\" target=\"_parent\"><img src=\"https://colab.research.google.com/assets/colab-badge.svg\" alt=\"Open In Colab\"/></a>"
      ]
    },
    {
      "cell_type": "code",
      "metadata": {
        "id": "1Lk7tFZUMkXo"
      },
      "source": [
        "name = input(\"Please enter your first name to find its digital root. \")\n",
        "letters = list(list(name.lower()))\n",
        "print(name.title())\n",
        "\n",
        "letters_to_digits = {'':0, 'a':1, 'b':2, 'c':3, 'd':4, 'e':5, 'f':6, 'g':7, \n",
        "                     'h':8, 'i':9, 'j':1, 'k':2, 'l':3, 'm':4, 'n':5, 'o':6,\n",
        "                     'p':7, 'q':8, 'r':9, 's':1, 't':2, 'u':3, 'v':4, 'w':5,\n",
        "                     'x':6, 'y':7, 'z':8}\n",
        "\n",
        "digits = []\n",
        "\n",
        "for k,v in letters_to_digits.items():\n",
        "  for l in letters:\n",
        "    if l == k:\n",
        "      digits.append(v)\n",
        "\n",
        "new_digits = sum(digits)\n",
        "s_digits = str(new_digits)\n",
        "l_digits = list(s_digits)\n",
        "new_new_digits = []\n",
        "\n",
        "for l in l_digits:\n",
        "  new_new_digits.append(int(l))\n",
        "\n",
        "if sum(new_new_digits) > 9:\n",
        "  extra_digits = []\n",
        "  s_new_digits = str(sum(new_new_digits))\n",
        "  nl_new_digits = list(s_new_digits)\n",
        "  for n in nl_new_digits:\n",
        "    extra_digits.append(int(n))\n",
        "    final_digits = sum(extra_digits)\n",
        "    print(final_digits)\n",
        "\n",
        "else:\n",
        "  print(sum(new_new_digits))\n",
        "\n"
      ],
      "execution_count": null,
      "outputs": []
    }
  ]
}